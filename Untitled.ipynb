{
 "cells": [
  {
   "cell_type": "code",
   "execution_count": 1,
   "id": "3f683dcb",
   "metadata": {},
   "outputs": [
    {
     "name": "stdout",
     "output_type": "stream",
     "text": [
      "Requirement already satisfied: seaborn in /Users/tonni/opt/anaconda3/envs/sg/lib/python3.8/site-packages (0.12.2)\n",
      "Requirement already satisfied: pandas>=0.25 in /Users/tonni/opt/anaconda3/envs/sg/lib/python3.8/site-packages (from seaborn) (1.5.3)\n",
      "Requirement already satisfied: matplotlib!=3.6.1,>=3.1 in /Users/tonni/opt/anaconda3/envs/sg/lib/python3.8/site-packages (from seaborn) (3.6.3)\n",
      "Requirement already satisfied: numpy!=1.24.0,>=1.17 in /Users/tonni/opt/anaconda3/envs/sg/lib/python3.8/site-packages (from seaborn) (1.24.1)\n",
      "Requirement already satisfied: packaging>=20.0 in /Users/tonni/opt/anaconda3/envs/sg/lib/python3.8/site-packages (from matplotlib!=3.6.1,>=3.1->seaborn) (23.0)\n",
      "Requirement already satisfied: pillow>=6.2.0 in /Users/tonni/opt/anaconda3/envs/sg/lib/python3.8/site-packages (from matplotlib!=3.6.1,>=3.1->seaborn) (9.4.0)\n",
      "Requirement already satisfied: cycler>=0.10 in /Users/tonni/opt/anaconda3/envs/sg/lib/python3.8/site-packages (from matplotlib!=3.6.1,>=3.1->seaborn) (0.11.0)\n",
      "Requirement already satisfied: python-dateutil>=2.7 in /Users/tonni/opt/anaconda3/envs/sg/lib/python3.8/site-packages (from matplotlib!=3.6.1,>=3.1->seaborn) (2.8.2)\n",
      "Requirement already satisfied: kiwisolver>=1.0.1 in /Users/tonni/opt/anaconda3/envs/sg/lib/python3.8/site-packages (from matplotlib!=3.6.1,>=3.1->seaborn) (1.4.4)\n",
      "Requirement already satisfied: contourpy>=1.0.1 in /Users/tonni/opt/anaconda3/envs/sg/lib/python3.8/site-packages (from matplotlib!=3.6.1,>=3.1->seaborn) (1.0.7)\n",
      "Requirement already satisfied: pyparsing>=2.2.1 in /Users/tonni/opt/anaconda3/envs/sg/lib/python3.8/site-packages (from matplotlib!=3.6.1,>=3.1->seaborn) (3.0.9)\n",
      "Requirement already satisfied: fonttools>=4.22.0 in /Users/tonni/opt/anaconda3/envs/sg/lib/python3.8/site-packages (from matplotlib!=3.6.1,>=3.1->seaborn) (4.38.0)\n",
      "Requirement already satisfied: pytz>=2020.1 in /Users/tonni/opt/anaconda3/envs/sg/lib/python3.8/site-packages (from pandas>=0.25->seaborn) (2022.7.1)\n",
      "Requirement already satisfied: six>=1.5 in /Users/tonni/opt/anaconda3/envs/sg/lib/python3.8/site-packages (from python-dateutil>=2.7->matplotlib!=3.6.1,>=3.1->seaborn) (1.16.0)\n",
      "Note: you may need to restart the kernel to use updated packages.\n"
     ]
    }
   ],
   "source": [
    "pip install seaborn"
   ]
  },
  {
   "cell_type": "code",
   "execution_count": 2,
   "id": "045e5401",
   "metadata": {},
   "outputs": [
    {
     "name": "stdout",
     "output_type": "stream",
     "text": [
      "Requirement already satisfied: scipy in /Users/tonni/opt/anaconda3/envs/sg/lib/python3.8/site-packages (1.10.0)\n",
      "Requirement already satisfied: numpy<1.27.0,>=1.19.5 in /Users/tonni/opt/anaconda3/envs/sg/lib/python3.8/site-packages (from scipy) (1.24.1)\n",
      "Note: you may need to restart the kernel to use updated packages.\n"
     ]
    }
   ],
   "source": [
    "pip install scipy"
   ]
  },
  {
   "cell_type": "code",
   "execution_count": 4,
   "id": "94ca55bd",
   "metadata": {},
   "outputs": [
    {
     "name": "stdout",
     "output_type": "stream",
     "text": [
      "Collecting xlrd\n",
      "  Downloading xlrd-2.0.1-py2.py3-none-any.whl (96 kB)\n",
      "\u001b[2K     \u001b[38;2;114;156;31m━━━━━━━━━━━━━━━━━━━━━━━━━━━━━━━━━━━━━━━━\u001b[0m \u001b[32m96.5/96.5 kB\u001b[0m \u001b[31m2.0 MB/s\u001b[0m eta \u001b[36m0:00:00\u001b[0m MB/s\u001b[0m eta \u001b[36m0:00:01\u001b[0m\n",
      "\u001b[?25hInstalling collected packages: xlrd\n",
      "Successfully installed xlrd-2.0.1\n",
      "Note: you may need to restart the kernel to use updated packages.\n"
     ]
    }
   ],
   "source": [
    "pip install xlrd"
   ]
  },
  {
   "cell_type": "code",
   "execution_count": 7,
   "id": "dd4c1d5d",
   "metadata": {},
   "outputs": [],
   "source": [
    "# All imports\n",
    "import pandas as pd\n",
    "import glob\n",
    "import os\n",
    "import networkx as nx\n",
    "import pickle\n",
    "import numpy as np\n",
    "from scipy import sparse\n",
    "from scipy.sparse import csr_matrix\n",
    "import seaborn as sns\n",
    "import matplotlib.pyplot as plt\n",
    "import scipy.stats as stats"
   ]
  },
  {
   "cell_type": "code",
   "execution_count": 16,
   "id": "b73f5f62",
   "metadata": {},
   "outputs": [
    {
     "name": "stdout",
     "output_type": "stream",
     "text": [
      "     Unnamed: 0  American75  Amherst41  Bingham82\n",
      "0       pro_adj    0.270837   0.354736   0.241387\n",
      "1       fea_adj    0.337827   0.370793   0.292853\n",
      "2   fea_adj_pro    0.309352   0.370530   0.283951\n",
      "3       pro_emb    0.220956   0.295596   0.177083\n",
      "4       fea_emb    0.298833   0.371176   0.270849\n",
      "5   fea_emb_pro    0.303150   0.372995   0.271155\n",
      "6           pro    0.204272   0.244189   0.151342\n",
      "7       pro_fea    0.326607   0.365900   0.288796\n",
      "8           fea    0.323258   0.363695   0.296681\n",
      "9           adj    0.306982   0.347899   0.250761\n",
      "10          emb    0.212131   0.299854   0.180741\n"
     ]
    },
    {
     "data": {
      "image/png": "[encoded data removed]",
      "text/plain": [
       "<Figure size 640x480 with 1 Axes>"
      ]
     },
     "metadata": {},
     "output_type": "display_data"
    }
   ],
   "source": [
    "df = pd.read_excel('Testing.xlsx')\n",
    "\n",
    "print(df)\n",
    "\n",
    "df = df.plot.bar(rot=0)"
   ]
  },
  {
   "cell_type": "code",
   "execution_count": 10,
   "id": "c6fa7d1f",
   "metadata": {},
   "outputs": [
    {
     "data": {
      "text/html": [
       "<div>\n",
       "<style scoped>\n",
       "    .dataframe tbody tr th:only-of-type {\n",
       "        vertical-align: middle;\n",
       "    }\n",
       "\n",
       "    .dataframe tbody tr th {\n",
       "        vertical-align: top;\n",
       "    }\n",
       "\n",
       "    .dataframe thead th {\n",
       "        text-align: right;\n",
       "    }\n",
       "</style>\n",
       "<table border=\"1\" class=\"dataframe\">\n",
       "  <thead>\n",
       "    <tr style=\"text-align: right;\">\n",
       "      <th></th>\n",
       "      <th>Dataset</th>\n",
       "      <th>pro_adj</th>\n",
       "      <th>fea_adj</th>\n",
       "      <th>fea_adj_pro</th>\n",
       "      <th>pro_emb</th>\n",
       "      <th>fea_emb</th>\n",
       "      <th>fea_emb_pro</th>\n",
       "      <th>pro</th>\n",
       "      <th>pro_fea</th>\n",
       "      <th>fea</th>\n",
       "      <th>adj</th>\n",
       "      <th>emb</th>\n",
       "    </tr>\n",
       "  </thead>\n",
       "  <tbody>\n",
       "    <tr>\n",
       "      <th>0</th>\n",
       "      <td>American75</td>\n",
       "      <td>0.270837</td>\n",
       "      <td>0.337827</td>\n",
       "      <td>0.309352</td>\n",
       "      <td>0.220956</td>\n",
       "      <td>0.298833</td>\n",
       "      <td>0.30315</td>\n",
       "      <td>0.204272</td>\n",
       "      <td>0.326607</td>\n",
       "      <td>0.323258</td>\n",
       "      <td>0.306982</td>\n",
       "      <td>0.212131</td>\n",
       "    </tr>\n",
       "  </tbody>\n",
       "</table>\n",
       "</div>"
      ],
      "text/plain": [
       "      Dataset   pro_adj   fea_adj  fea_adj_pro   pro_emb   fea_emb  \\\n",
       "0  American75  0.270837  0.337827     0.309352  0.220956  0.298833   \n",
       "\n",
       "   fea_emb_pro       pro   pro_fea       fea       adj       emb  \n",
       "0      0.30315  0.204272  0.326607  0.323258  0.306982  0.212131  "
      ]
     },
     "execution_count": 10,
     "metadata": {},
     "output_type": "execute_result"
    }
   ],
   "source": [
    "df_american = df[(df['Dataset'] == 'American75')]\n",
    "df_american"
   ]
  },
  {
   "cell_type": "code",
   "execution_count": 14,
   "id": "e0a03ef4",
   "metadata": {},
   "outputs": [
    {
     "data": {
      "text/html": [
       "<div>\n",
       "<style scoped>\n",
       "    .dataframe tbody tr th:only-of-type {\n",
       "        vertical-align: middle;\n",
       "    }\n",
       "\n",
       "    .dataframe tbody tr th {\n",
       "        vertical-align: top;\n",
       "    }\n",
       "\n",
       "    .dataframe thead th {\n",
       "        text-align: right;\n",
       "    }\n",
       "</style>\n",
       "<table border=\"1\" class=\"dataframe\">\n",
       "  <thead>\n",
       "    <tr style=\"text-align: right;\">\n",
       "      <th></th>\n",
       "      <th>fea</th>\n",
       "      <th>fea_adj</th>\n",
       "      <th>fea_emb</th>\n",
       "      <th>pro_fea</th>\n",
       "    </tr>\n",
       "  </thead>\n",
       "  <tbody>\n",
       "    <tr>\n",
       "      <th>0</th>\n",
       "      <td>0.323258</td>\n",
       "      <td>0.337827</td>\n",
       "      <td>0.298833</td>\n",
       "      <td>0.326607</td>\n",
       "    </tr>\n",
       "  </tbody>\n",
       "</table>\n",
       "</div>"
      ],
      "text/plain": [
       "        fea   fea_adj   fea_emb   pro_fea\n",
       "0  0.323258  0.337827  0.298833  0.326607"
      ]
     },
     "execution_count": 14,
     "metadata": {},
     "output_type": "execute_result"
    }
   ],
   "source": [
    "# df_american_1 = df[['fea', 'adj_fea', 'emb_fea', 'pro_fea']].copy()\n",
    "df_american_1 = pd.DataFrame().assign(fea=df_american['fea'], fea_adj=df_american['fea_adj'], fea_emb=df_american['fea_emb'], pro_fea=df_american['pro_fea'])\n",
    "df_american_1"
   ]
  },
  {
   "cell_type": "code",
   "execution_count": 15,
   "id": "641f3888",
   "metadata": {},
   "outputs": [
    {
     "data": {
      "image/png": "[encoded data removed]",
      "text/plain": [
       "<Figure size 640x480 with 1 Axes>"
      ]
     },
     "metadata": {},
     "output_type": "display_data"
    }
   ],
   "source": [
    "df_american_1 = df_american_1.plot.bar(rot=0)"
   ]
  },
  {
   "cell_type": "code",
   "execution_count": null,
   "id": "9fff2b23",
   "metadata": {},
   "outputs": [],
   "source": []
  }
 ],
 "metadata": {
  "kernelspec": {
   "display_name": "Python 3 (ipykernel)",
   "language": "python",
   "name": "python3"
  },
  "language_info": {
   "codemirror_mode": {
    "name": "ipython",
    "version": 3
   },
   "file_extension": ".py",
   "mimetype": "text/x-python",
   "name": "python",
   "nbconvert_exporter": "python",
   "pygments_lexer": "ipython3",
   "version": "3.8.16"
  }
 },
 "nbformat": 4,
 "nbformat_minor": 5
}
